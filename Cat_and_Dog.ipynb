{
 "cells": [
  {
   "cell_type": "markdown",
   "metadata": {
    "colab_type": "text",
    "id": "view-in-github"
   },
   "source": [
    "<a href=\"https://colab.research.google.com/github/Samruddhi942/ProdigyInfoTech_ML_Task03/blob/main/Cat_and_Dog.ipynb\" target=\"_parent\"><img src=\"https://colab.research.google.com/assets/colab-badge.svg\" alt=\"Open In Colab\"/></a>"
   ]
  },
  {
   "cell_type": "code",
   "execution_count": 5,
   "metadata": {
    "colab": {
     "base_uri": "https://localhost:8080/"
    },
    "id": "Qm0dlFR76ILQ",
    "outputId": "3aa6c062-ef29-4861-e54a-54efc2250004"
   },
   "outputs": [
    {
     "name": "stderr",
     "output_type": "stream",
     "text": [
      "'kaggle' is not recognized as an internal or external command,\n",
      "operable program or batch file.\n"
     ]
    }
   ],
   "source": [
    "!mkdir -p ~/.kaggle !cp kaggle.json ~/.kaggle"
   ]
  },
  {
   "cell_type": "code",
   "execution_count": null,
   "metadata": {},
   "outputs": [],
   "source": []
  },
  {
   "cell_type": "code",
   "execution_count": 6,
   "metadata": {
    "id": "hlV2Y4EV6QSH"
   },
   "outputs": [
    {
     "ename": "FileNotFoundError",
     "evalue": "[Errno 2] No such file or directory: '/content/cats-and-dogs-40.zip'",
     "output_type": "error",
     "traceback": [
      "\u001b[1;31m---------------------------------------------------------------------------\u001b[0m",
      "\u001b[1;31mFileNotFoundError\u001b[0m                         Traceback (most recent call last)",
      "Cell \u001b[1;32mIn[6], line 2\u001b[0m\n\u001b[0;32m      1\u001b[0m \u001b[38;5;28;01mimport\u001b[39;00m \u001b[38;5;21;01mzipfile\u001b[39;00m\n\u001b[1;32m----> 2\u001b[0m zip_ref\u001b[38;5;241m=\u001b[39mzipfile\u001b[38;5;241m.\u001b[39mZipFile(\u001b[38;5;124m'\u001b[39m\u001b[38;5;124m/content/cats-and-dogs-40.zip\u001b[39m\u001b[38;5;124m'\u001b[39m,\u001b[38;5;124m'\u001b[39m\u001b[38;5;124mr\u001b[39m\u001b[38;5;124m'\u001b[39m)\n\u001b[0;32m      3\u001b[0m zip_ref\u001b[38;5;241m.\u001b[39mextractall(\u001b[38;5;124m'\u001b[39m\u001b[38;5;124m/content\u001b[39m\u001b[38;5;124m'\u001b[39m)\n\u001b[0;32m      4\u001b[0m zip_ref\u001b[38;5;241m.\u001b[39mclose()\n",
      "File \u001b[1;32m~\\anaconda3\\Lib\\zipfile\\__init__.py:1331\u001b[0m, in \u001b[0;36mZipFile.__init__\u001b[1;34m(self, file, mode, compression, allowZip64, compresslevel, strict_timestamps, metadata_encoding)\u001b[0m\n\u001b[0;32m   1329\u001b[0m \u001b[38;5;28;01mwhile\u001b[39;00m \u001b[38;5;28;01mTrue\u001b[39;00m:\n\u001b[0;32m   1330\u001b[0m     \u001b[38;5;28;01mtry\u001b[39;00m:\n\u001b[1;32m-> 1331\u001b[0m         \u001b[38;5;28mself\u001b[39m\u001b[38;5;241m.\u001b[39mfp \u001b[38;5;241m=\u001b[39m io\u001b[38;5;241m.\u001b[39mopen(file, filemode)\n\u001b[0;32m   1332\u001b[0m     \u001b[38;5;28;01mexcept\u001b[39;00m \u001b[38;5;167;01mOSError\u001b[39;00m:\n\u001b[0;32m   1333\u001b[0m         \u001b[38;5;28;01mif\u001b[39;00m filemode \u001b[38;5;129;01min\u001b[39;00m modeDict:\n",
      "\u001b[1;31mFileNotFoundError\u001b[0m: [Errno 2] No such file or directory: '/content/cats-and-dogs-40.zip'"
     ]
    }
   ],
   "source": [
    "import zipfile\n",
    "zip_ref=zipfile.ZipFile('/content/cats-and-dogs-40.zip','r')\n",
    "zip_ref.extractall('/content')\n",
    "zip_ref.close()"
   ]
  },
  {
   "cell_type": "code",
   "execution_count": null,
   "metadata": {
    "id": "WWvDFNu16WdR"
   },
   "outputs": [],
   "source": [
    "import tensorflow as tf\n",
    "from tensorflow import keras\n",
    "from keras import Sequential\n",
    "from keras.layers import Dense,Conv2D,MaxPooling2D,Flatten"
   ]
  },
  {
   "cell_type": "code",
   "execution_count": null,
   "metadata": {
    "colab": {
     "base_uri": "https://localhost:8080/"
    },
    "id": "ewCqsAeu6d0d",
    "outputId": "f0af243b-3529-4ba5-8b21-477b436c3a57"
   },
   "outputs": [],
   "source": [
    "from skimage.io import imread\n",
    "from skimage.transform import resize\n",
    "import os\n",
    "import numpy as np\n",
    "\n",
    "Categories = ['cat', 'dog']\n",
    "flat_data_arr = []  # input array\n",
    "target_arr = []  # output array\n",
    "\n",
    "# Specify the main directory containing both training and testing subdirectories\n",
    "main_datadir = 'catsAndDogs40/'\n",
    "\n",
    "# Iterate through both training and testing categories\n",
    "for category in Categories:\n",
    "    print(f'loading... category: {category}')\n",
    "\n",
    "    # Specify the subdirectories for training and testing\n",
    "    train_or_test_dirs = ['train', 'test']\n",
    "\n",
    "    for train_or_test in train_or_test_dirs:\n",
    "        # Form the complete path\n",
    "        path = os.path.join(main_datadir, train_or_test, category)\n",
    "\n",
    "        for img in os.listdir(path):\n",
    "            img_array = imread(os.path.join(path, img))\n",
    "            img_resized = resize(img_array, (40, 40, 3))  # Adjust the size as needed\n",
    "            flat_data_arr.append(img_resized.flatten())\n",
    "            target_arr.append(Categories.index(category))\n",
    "\n",
    "        print(f'loaded {train_or_test} category: {category} successfully')\n",
    "\n",
    "flat_data = np.array(flat_data_arr)\n",
    "target = np.array(target_arr)"
   ]
  },
  {
   "cell_type": "code",
   "execution_count": null,
   "metadata": {
    "colab": {
     "base_uri": "https://localhost:8080/"
    },
    "id": "o9jQctwO6zUd",
    "outputId": "4aaccc7e-35fa-44fd-ef30-e61317ef7351"
   },
   "outputs": [],
   "source": [
    "import pandas as pd\n",
    "import matplotlib.pyplot as plt\n",
    "from sklearn import svm\n",
    "from sklearn.model_selection import GridSearchCV\n",
    "from sklearn.model_selection import train_test_split\n",
    "from sklearn.metrics import accuracy_score\n",
    "from sklearn.metrics import classification_report\n",
    "df=pd.DataFrame(flat_data)\n",
    "df['Target']=target\n",
    "df.shape"
   ]
  },
  {
   "cell_type": "code",
   "execution_count": null,
   "metadata": {
    "id": "J-oME6k36_O0"
   },
   "outputs": [],
   "source": [
    "#input data\n",
    "x=df.iloc[:,:-1]\n",
    "#output data\n",
    "y=df.iloc[:,-1]"
   ]
  },
  {
   "cell_type": "code",
   "execution_count": null,
   "metadata": {
    "id": "KetyyFPB7CiU"
   },
   "outputs": [],
   "source": [
    "# Splitting the data into training and testing sets\n",
    "x_train,x_test,y_train,y_test=train_test_split(x,y,test_size=0.20,\n",
    "\t\t\t\t\t\t\t\t\t\t\trandom_state=77,\n",
    "\t\t\t\t\t\t\t\t\t\t\tstratify=y)"
   ]
  },
  {
   "cell_type": "code",
   "execution_count": null,
   "metadata": {
    "id": "D3L4Ifaq7Fx9"
   },
   "outputs": [],
   "source": [
    "# Defining the parameters grid for GridSearchCV\n",
    "param_grid={'C':[0.1,1,10,100],\n",
    "\t\t\t'gamma':[0.0001,0.001,0.1,1],\n",
    "\t\t\t'kernel':['rbf','poly']}\n",
    "\n",
    "# Creating a support vector classifier\n",
    "svc=svm.SVC(probability=True)\n",
    "\n",
    "# Creating a model using GridSearchCV with the parameters grid\n",
    "model=GridSearchCV(svc,param_grid)"
   ]
  },
  {
   "cell_type": "code",
   "execution_count": null,
   "metadata": {
    "colab": {
     "base_uri": "https://localhost:8080/",
     "height": 116
    },
    "id": "GGDZNTwo7JGe",
    "outputId": "93c80b89-77f9-4744-c617-41c29fb11d9a"
   },
   "outputs": [],
   "source": [
    "model.fit(x_train,y_train)"
   ]
  },
  {
   "cell_type": "code",
   "execution_count": null,
   "metadata": {
    "colab": {
     "base_uri": "https://localhost:8080/"
    },
    "id": "wr40HYLC7QXp",
    "outputId": "a1f498d5-be52-4464-c8cb-0355f3044adc"
   },
   "outputs": [],
   "source": [
    "# Testing the model using the testing data\n",
    "y_pred = model.predict(x_test)\n",
    "\n",
    "# Calculating the accuracy of the model\n",
    "accuracy = accuracy_score(y_pred, y_test)\n",
    "\n",
    "# Print the accuracy of the model\n",
    "print(f\"The model is {accuracy*100}% accurate\")"
   ]
  },
  {
   "cell_type": "code",
   "execution_count": null,
   "metadata": {
    "colab": {
     "base_uri": "https://localhost:8080/"
    },
    "id": "ufQXCGvj7V9E",
    "outputId": "35cd16e1-2ef4-4fb6-b37b-c53ebf14d2a9"
   },
   "outputs": [],
   "source": [
    "print(classification_report(y_test, y_pred, target_names=['cat', 'dog']))"
   ]
  },
  {
   "cell_type": "code",
   "execution_count": null,
   "metadata": {
    "colab": {
     "base_uri": "https://localhost:8080/",
     "height": 451
    },
    "id": "RvvUSzy67cpd",
    "outputId": "54b9cce6-2e9a-43be-e68f-98d7e13a2b23"
   },
   "outputs": [],
   "source": [
    "path='catsAndDogs40/test/dog/2.jpg'\n",
    "img=imread(path)\n",
    "plt.imshow(img)\n",
    "plt.show()\n",
    "img_resize=resize(img,(40,40,3))\n",
    "l=[img_resize.flatten()]\n",
    "print(\"The predicted image is : \"+Categories[model.predict(l)[0]])"
   ]
  },
  {
   "cell_type": "code",
   "execution_count": null,
   "metadata": {
    "colab": {
     "base_uri": "https://localhost:8080/",
     "height": 451
    },
    "id": "WAGkimyl7FQ5",
    "outputId": "ff7e6d0b-2bf8-4f62-ce49-deec59be9dfa"
   },
   "outputs": [],
   "source": [
    "path='catsAndDogs40/test/cat/5.jpg'\n",
    "img=imread(path)\n",
    "plt.imshow(img)\n",
    "plt.show()\n",
    "img_resize=resize(img,(40,40,3))\n",
    "l=[img_resize.flatten()]\n",
    "print(\"The predicted image is : \"+Categories[model.predict(l)[0]])"
   ]
  }
 ],
 "metadata": {
  "colab": {
   "authorship_tag": "ABX9TyMcDpHehGp8pTUB5vavl/cq",
   "include_colab_link": true,
   "provenance": []
  },
  "kernelspec": {
   "display_name": "Python 3 (ipykernel)",
   "language": "python",
   "name": "python3"
  },
  "language_info": {
   "codemirror_mode": {
    "name": "ipython",
    "version": 3
   },
   "file_extension": ".py",
   "mimetype": "text/x-python",
   "name": "python",
   "nbconvert_exporter": "python",
   "pygments_lexer": "ipython3",
   "version": "3.12.7"
  }
 },
 "nbformat": 4,
 "nbformat_minor": 4
}
